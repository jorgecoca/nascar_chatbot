{
 "cells": [
  {
   "cell_type": "markdown",
   "id": "d133e124",
   "metadata": {},
   "source": [
    "# NASCAR Chatbot Sandbox - Agent Evaluation"
   ]
  },
  {
   "cell_type": "code",
   "execution_count": 1,
   "id": "4c5270ad",
   "metadata": {},
   "outputs": [],
   "source": [
    "import os\n",
    "import getpass\n",
    "\n",
    "os.environ['TAVILY_API_KEY'] = getpass.getpass('Enter your Tavily API key: ')\n",
    "os.environ['OPENAI_API_KEY'] = getpass.getpass('Enter your OpenAI API key: ')"
   ]
  },
  {
   "cell_type": "code",
   "execution_count": 8,
   "id": "32787efd",
   "metadata": {},
   "outputs": [
    {
     "name": "stdout",
     "output_type": "stream",
     "text": [
      "[AIMessage(content='', additional_kwargs={'tool_calls': [{'id': 'call_8zAEak4iOQOY7GQ5c57s8oZL', 'function': {'arguments': '{\"__arg1\":\"NASCAR race in Chicago 2025\"}', 'name': 'tavily_web_search'}, 'type': 'function'}], 'refusal': None}, response_metadata={'token_usage': {'completion_tokens': 27, 'prompt_tokens': 265, 'total_tokens': 292, 'completion_tokens_details': {'accepted_prediction_tokens': 0, 'audio_tokens': 0, 'reasoning_tokens': 0, 'rejected_prediction_tokens': 0}, 'prompt_tokens_details': {'audio_tokens': 0, 'cached_tokens': 0}}, 'model_name': 'gpt-4.1-nano-2025-04-14', 'system_fingerprint': 'fp_38343a2f8f', 'id': 'chatcmpl-C1cfPOrmvt3AhkugqsWmWzCPpnYaA', 'service_tier': 'default', 'finish_reason': 'tool_calls', 'logprobs': None}, id='run--b7127f4f-1fd0-4910-b5fa-5e551f080e9e-0', tool_calls=[{'name': 'tavily_web_search', 'args': {'__arg1': 'NASCAR race in Chicago 2025'}, 'id': 'call_8zAEak4iOQOY7GQ5c57s8oZL', 'type': 'tool_call'}], usage_metadata={'input_tokens': 265, 'output_tokens': 27, 'total_tokens': 292, 'input_token_details': {'audio': 0, 'cache_read': 0}, 'output_token_details': {'audio': 0, 'reasoning': 0}}), ToolMessage(content='1. 2025 NASCAR Cup Series Chicago Street Course Race Page - Jayski\\n2025 NASCAR Cup Series Chicago Street Course Race Page - Jayski\\'s NASCAR Silly Season Site **Pit Stall Selections:** The selections of pit stalls for the Grant Park 165 NASCAR Cup Series race at the Chicago Street Course have been made. **#88-Shane Van Gisbergen** won the Busch pole for the Grant Park 165 NASCAR Cup Series race at the Chicago Street Course with a speed of 88.338mph for his second pole of the year, first at Chicago and third of his career. Practice for the Grant Park 165 NASCAR Cup Series race at the Chicago Street Course is over. The entry list for the Grant Park 165 NASCAR Cup Series race at the Chicago Street Course is posted, 41 teams/drivers [for 40 spots] are listed.\\nSource: https://www.jayski.com/nascar-cup-series/2025-nascar-cup-series-chicago-street-course-race-page/\\n\\n2. What to Watch: 2025 Chicago Street Race - NASCAR.com\\nWhat to Watch: 2025 Chicago Street Race | NASCAR “I’m a lucky boy,” Shane van Gisbergen beamed Saturday afternoon after claiming two NASCAR national-series pole positions in the span of about three hours on the Chicago Street Course. “I’ve been able to hang around with him at the Legends Car track, right, and it’s been fun to see just how his brain operates and what he looks forward to on ovals versus road courses,” said Bubba Wallace, referencing Charlotte Motor Speedway’s Summer Shootout Series. “I think the biggest thing from a setup standpoint is just the content of the track, right?” said Richard Boswell, crew chief for Austin Dillon’s No. 3 Richard Childress Racing Chevrolet.\\nSource: https://www.nascar.com/news-media/2025/07/05/cup-series-2025-what-to-watch-chicago-street-race-preview/\\n\\n3. At-track photos: 2025 Chicago Street Race weekend - NASCAR.com\\nView the best photos from the doubleheader weekend in the \"Windy City\" as the Cup and Xfinity series visit the Chicago Street Course.\\nSource: https://www.nascar.com/gallery/at-track-photos-2025-chicago-street-race-weekend/\\n\\n4. Chicago Street Course comes to life ahead of 2025 race weekend\\nNASCAR\\'s Cup and Xfinity series drivers will take on the streets of Chicago for the third time with stunning views at every corner of the 12 turn, 2.2-mile\\nSource: https://www.nascar.com/gallery/chicago-street-course-comes-to-life-ahead-of-2025-race-weekend/\\n\\n5. 2025 Race Results - NASCAR.com\\nFollow the NASCAR Cup Series at Chicago Street Course with live leaderboard updates, real-time driver positions, practice, qualifying, and race results\\nSource: https://www.nascar.com/live-results/nascar-cup-series/grant-park-165/\\n\\n6. 2025 Chicago Street Race pit stall assignments - NASCAR.com\\nSee where your favorite NASCAR Cup Series driver will pit for Sunday\\'s Grant Park 165 at the Chicago Street Course (2 p.m. ET, TNT Sports).\\nSource: https://www.nascar.com/news-media/2025/07/05/2025-chicago-street-race-pit-stall-assignments/\\n\\n7. NASCAR National Series News & Notes - Chicago Street Course\\n*   This weekend marks the third running of a NASCAR Cup Series race at the Chicago Street Course (2023-2025). *   Alex Bowman is the only driver to win at Chicagoland and the Chicago Street Course, he got his first Cup win at Chicagoland in 2019 in the last race held on the oval and won the last race on the Chicago Street Course in 2024. *   7 of the 15 road course regular season races in the Next Gen were won by a driver ranked 16 th or worse in the Playoff standings, including both Chicago races. *   This weekend marks the third running of a NASCAR Xfinity Series race at the Chicago Street Course (2023-25). Shane van Gisbergen won half of all races run at Chicago Street Course – 1 Cup, 1 Xfinity.\\nSource: https://www.jayski.com/2025/07/02/nascar-national-series-news-notes-chicago-street-course/\\n\\n8. 2025 NASCAR Cup Series entry list for Chicago Street Race\\nCup Series entry list for Chicago Street Race | NASCAR *   NASCAR 101 2025 NASCAR Cup Series entry list for Chicago Street Race *   About NASCAR *   NASCAR 101 #### Personalised advertising and content, advertising and content measurement, audience research and services development 875 partners can use this purpose Advertising presented to you on this service can be based on limited data, such as the website or app you are using, your non-precise location, your device type or which content you are (or have been) interacting with (for example, to limit the number of times an ad is presented to you).\\nSource: https://www.nascar.com/news-media/2025/06/30/2025-nascar-cup-series-entry-list-for-chicago-street-race/', id='3ab777ea-09c6-44e5-9873-98ca9a0d52e4', tool_call_id='call_8zAEak4iOQOY7GQ5c57s8oZL'), AIMessage(content=\"The NASCAR race held in Chicago in 2025 was a significant event on the calendar, featuring the third running of the Chicago Street Course race. This race took place on a challenging 2.2-mile street circuit with 12 turns, offering stunning urban views and a unique racing experience right through the streets of Chicago.\\n\\nHere are some key highlights:\\n\\n- The race was part of the NASCAR Cup Series and also included the Xfinity Series, making it a major weekend event for motorsport fans.\\n- Shane van Gisbergen was a standout driver, securing pole position and winning one of the races, demonstrating impressive skill on a street course that demands precision and bravery.\\n- The race circuit is a city street layout, which is different from traditional oval tracks, presenting a unique challenge to drivers, similar to navigating a city maze at high speeds.\\n- The race weekend included practice, qualifying, and the actual race, with live results and updates available online.\\n- This event marked the third time NASCAR visited Chicago's streets, making it a popular and anticipated race among fans.\\n\\nWould you like to know more about the specific race results, standout moments, or drivers' performances?\", additional_kwargs={'refusal': None}, response_metadata={'token_usage': {'completion_tokens': 233, 'prompt_tokens': 1400, 'total_tokens': 1633, 'completion_tokens_details': {'accepted_prediction_tokens': 0, 'audio_tokens': 0, 'reasoning_tokens': 0, 'rejected_prediction_tokens': 0}, 'prompt_tokens_details': {'audio_tokens': 0, 'cached_tokens': 0}}, 'model_name': 'gpt-4.1-nano-2025-04-14', 'system_fingerprint': 'fp_38343a2f8f', 'id': 'chatcmpl-C1cfRsV3H2U60QQ3Pud5nXt9Cft3U', 'service_tier': 'default', 'finish_reason': 'stop', 'logprobs': None}, id='run--a3a3670a-d773-4a01-8b75-e11ba2cd964c-0', usage_metadata={'input_tokens': 1400, 'output_tokens': 233, 'total_tokens': 1633, 'input_token_details': {'audio': 0, 'cache_read': 0}, 'output_token_details': {'audio': 0, 'reasoning': 0}})]\n"
     ]
    }
   ],
   "source": [
    "from agent import Agent\n",
    "from services.chat_service import ChatService\n",
    "\n",
    "agent = Agent()\n",
    "chat_service = ChatService(agent)\n",
    "result = await chat_service.chat(\"Can you give me an overview of the NASCAR race that took place in Chicago in 2025?\")\n",
    "print(result[\"messages\"])"
   ]
  },
  {
   "cell_type": "code",
   "execution_count": 11,
   "id": "336debc4",
   "metadata": {},
   "outputs": [
    {
     "name": "stdout",
     "output_type": "stream",
     "text": [
      "[AIMessage(content='', metadata=None, type='ai', tool_calls=[ToolCall(name='tavily_web_search', args={'__arg1': 'NASCAR race in Chicago 2025'})]), ToolMessage(content='1. 2025 NASCAR Cup Series Chicago Street Course Race Page - Jayski\\n2025 NASCAR Cup Series Chicago Street Course Race Page - Jayski\\'s NASCAR Silly Season Site **Pit Stall Selections:** The selections of pit stalls for the Grant Park 165 NASCAR Cup Series race at the Chicago Street Course have been made. **#88-Shane Van Gisbergen** won the Busch pole for the Grant Park 165 NASCAR Cup Series race at the Chicago Street Course with a speed of 88.338mph for his second pole of the year, first at Chicago and third of his career. Practice for the Grant Park 165 NASCAR Cup Series race at the Chicago Street Course is over. The entry list for the Grant Park 165 NASCAR Cup Series race at the Chicago Street Course is posted, 41 teams/drivers [for 40 spots] are listed.\\nSource: https://www.jayski.com/nascar-cup-series/2025-nascar-cup-series-chicago-street-course-race-page/\\n\\n2. What to Watch: 2025 Chicago Street Race - NASCAR.com\\nWhat to Watch: 2025 Chicago Street Race | NASCAR “I’m a lucky boy,” Shane van Gisbergen beamed Saturday afternoon after claiming two NASCAR national-series pole positions in the span of about three hours on the Chicago Street Course. “I’ve been able to hang around with him at the Legends Car track, right, and it’s been fun to see just how his brain operates and what he looks forward to on ovals versus road courses,” said Bubba Wallace, referencing Charlotte Motor Speedway’s Summer Shootout Series. “I think the biggest thing from a setup standpoint is just the content of the track, right?” said Richard Boswell, crew chief for Austin Dillon’s No. 3 Richard Childress Racing Chevrolet.\\nSource: https://www.nascar.com/news-media/2025/07/05/cup-series-2025-what-to-watch-chicago-street-race-preview/\\n\\n3. At-track photos: 2025 Chicago Street Race weekend - NASCAR.com\\nView the best photos from the doubleheader weekend in the \"Windy City\" as the Cup and Xfinity series visit the Chicago Street Course.\\nSource: https://www.nascar.com/gallery/at-track-photos-2025-chicago-street-race-weekend/\\n\\n4. Chicago Street Course comes to life ahead of 2025 race weekend\\nNASCAR\\'s Cup and Xfinity series drivers will take on the streets of Chicago for the third time with stunning views at every corner of the 12 turn, 2.2-mile\\nSource: https://www.nascar.com/gallery/chicago-street-course-comes-to-life-ahead-of-2025-race-weekend/\\n\\n5. 2025 Race Results - NASCAR.com\\nFollow the NASCAR Cup Series at Chicago Street Course with live leaderboard updates, real-time driver positions, practice, qualifying, and race results\\nSource: https://www.nascar.com/live-results/nascar-cup-series/grant-park-165/\\n\\n6. 2025 Chicago Street Race pit stall assignments - NASCAR.com\\nSee where your favorite NASCAR Cup Series driver will pit for Sunday\\'s Grant Park 165 at the Chicago Street Course (2 p.m. ET, TNT Sports).\\nSource: https://www.nascar.com/news-media/2025/07/05/2025-chicago-street-race-pit-stall-assignments/\\n\\n7. NASCAR National Series News & Notes - Chicago Street Course\\n*   This weekend marks the third running of a NASCAR Cup Series race at the Chicago Street Course (2023-2025). *   Alex Bowman is the only driver to win at Chicagoland and the Chicago Street Course, he got his first Cup win at Chicagoland in 2019 in the last race held on the oval and won the last race on the Chicago Street Course in 2024. *   7 of the 15 road course regular season races in the Next Gen were won by a driver ranked 16 th or worse in the Playoff standings, including both Chicago races. *   This weekend marks the third running of a NASCAR Xfinity Series race at the Chicago Street Course (2023-25). Shane van Gisbergen won half of all races run at Chicago Street Course – 1 Cup, 1 Xfinity.\\nSource: https://www.jayski.com/2025/07/02/nascar-national-series-news-notes-chicago-street-course/\\n\\n8. 2025 NASCAR Cup Series entry list for Chicago Street Race\\nCup Series entry list for Chicago Street Race | NASCAR *   NASCAR 101 2025 NASCAR Cup Series entry list for Chicago Street Race *   About NASCAR *   NASCAR 101 #### Personalised advertising and content, advertising and content measurement, audience research and services development 875 partners can use this purpose Advertising presented to you on this service can be based on limited data, such as the website or app you are using, your non-precise location, your device type or which content you are (or have been) interacting with (for example, to limit the number of times an ad is presented to you).\\nSource: https://www.nascar.com/news-media/2025/06/30/2025-nascar-cup-series-entry-list-for-chicago-street-race/', metadata=None, type='tool'), AIMessage(content=\"The NASCAR race held in Chicago in 2025 was a significant event on the calendar, featuring the third running of the Chicago Street Course race. This race took place on a challenging 2.2-mile street circuit with 12 turns, offering stunning urban views and a unique racing experience right through the streets of Chicago.\\n\\nHere are some key highlights:\\n\\n- The race was part of the NASCAR Cup Series and also included the Xfinity Series, making it a major weekend event for motorsport fans.\\n- Shane van Gisbergen was a standout driver, securing pole position and winning one of the races, demonstrating impressive skill on a street course that demands precision and bravery.\\n- The race circuit is a city street layout, which is different from traditional oval tracks, presenting a unique challenge to drivers, similar to navigating a city maze at high speeds.\\n- The race weekend included practice, qualifying, and the actual race, with live results and updates available online.\\n- This event marked the third time NASCAR visited Chicago's streets, making it a popular and anticipated race among fans.\\n\\nWould you like to know more about the specific race results, standout moments, or drivers' performances?\", metadata=None, type='ai', tool_calls=[])]\n",
      "Tool Call Score: 1.0\n"
     ]
    }
   ],
   "source": [
    "from langchain_openai import ChatOpenAI\n",
    "from ragas.metrics import ToolCallAccuracy, AgentGoalAccuracyWithReference\n",
    "from ragas.dataset_schema import MultiTurnSample\n",
    "import ragas.messages as r\n",
    "from ragas.integrations.langgraph import convert_to_ragas_messages\n",
    "\n",
    "llm_evaluator = ChatOpenAI(model=\"gpt-4o-mini\")\n",
    "ragas_trace = convert_to_ragas_messages(result[\"messages\"])\n",
    "print(ragas_trace)\n",
    "\n",
    "# Tool Call Accuracy\n",
    "tool_call_sample = MultiTurnSample(\n",
    "  user_input=ragas_trace,\n",
    "  reference_tool_calls=[\n",
    "    r.ToolCall(\n",
    "      name=\"tavily_web_search\", \n",
    "      args={\"__arg1\": \"NASCAR race in Chicago 2025\"}\n",
    "    ),\n",
    "  ],\n",
    ")\n",
    "tool_call_scorer = ToolCallAccuracy()\n",
    "tool_call_scorer.llm = llm_evaluator\n",
    "tool_call_score = await tool_call_scorer.multi_turn_ascore(tool_call_sample)\n",
    "print(f\"Tool Call Score: {tool_call_score}\")"
   ]
  },
  {
   "cell_type": "code",
   "execution_count": 18,
   "id": "f9d6da2a",
   "metadata": {},
   "outputs": [
    {
     "name": "stdout",
     "output_type": "stream",
     "text": [
      "Accuracy Score: 1.0\n"
     ]
    }
   ],
   "source": [
    "from ragas.metrics import AgentGoalAccuracyWithReference\n",
    "from ragas.llms import LangchainLLMWrapper\n",
    "\n",
    "# Accuracy Goal\n",
    "accuracy_sample = MultiTurnSample(\n",
    "  user_input=ragas_trace,\n",
    "  reference=\"Details of the Chicago NASCAR race in 2025\",\n",
    ")\n",
    "accuracy_scorer = AgentGoalAccuracyWithReference()\n",
    "accuracy_scorer.llm = LangchainLLMWrapper(ChatOpenAI(model=\"gpt-4o-mini\"))\n",
    "accuracy_score = await accuracy_scorer.multi_turn_ascore(accuracy_sample)\n",
    "print(f\"Accuracy Score: {accuracy_score}\")"
   ]
  },
  {
   "cell_type": "code",
   "execution_count": 20,
   "id": "018f0dff",
   "metadata": {},
   "outputs": [
    {
     "name": "stdout",
     "output_type": "stream",
     "text": [
      "Topic Adherence Score: 0.599999999946\n"
     ]
    }
   ],
   "source": [
    "from ragas.metrics import TopicAdherenceScore\n",
    "\n",
    "# Topic Adherence\n",
    "adherence_sample = MultiTurnSample(\n",
    "  user_input=ragas_trace,\n",
    "  reference_topics=[\"NASCAR\", \"Chicago\", \"2025\"],\n",
    ")\n",
    "accuracy_scorer = TopicAdherenceScore()\n",
    "accuracy_scorer.llm = LangchainLLMWrapper(ChatOpenAI(model=\"gpt-4o-mini\"))\n",
    "adherence_score = await accuracy_scorer.multi_turn_ascore(adherence_sample)\n",
    "print(f\"Topic Adherence Score: {adherence_score}\")"
   ]
  }
 ],
 "metadata": {
  "kernelspec": {
   "display_name": "nascar-chatbot",
   "language": "python",
   "name": "python3"
  },
  "language_info": {
   "codemirror_mode": {
    "name": "ipython",
    "version": 3
   },
   "file_extension": ".py",
   "mimetype": "text/x-python",
   "name": "python",
   "nbconvert_exporter": "python",
   "pygments_lexer": "ipython3",
   "version": "3.13.4"
  }
 },
 "nbformat": 4,
 "nbformat_minor": 5
}
